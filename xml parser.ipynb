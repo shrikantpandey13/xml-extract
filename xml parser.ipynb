{
 "cells": [
  {
   "cell_type": "code",
   "execution_count": 52,
   "metadata": {},
   "outputs": [],
   "source": [
    "import pandas as pd\n",
    "import datetime\n",
    "import xml.etree.ElementTree as ET"
   ]
  },
  {
   "cell_type": "code",
   "execution_count": 46,
   "metadata": {},
   "outputs": [],
   "source": []
  },
  {
   "cell_type": "code",
   "execution_count": 69,
   "metadata": {},
   "outputs": [],
   "source": []
  },
  {
   "cell_type": "code",
   "execution_count": 89,
   "metadata": {},
   "outputs": [],
   "source": [
    "\n",
    "xml = \"demo.xml\"\n",
    "tree = ET.parse(xml)\n",
    "\n",
    "chemical = tree.findall('Chemical')\n",
    "data = []\n",
    "start = datetime.datetime.now()\n",
    "for chem in chemical:\n",
    "    name_list = chem.find('NameList')\n",
    "    name_list = ' : '.join([ele1.text for ele1 in name_list.findall('SystematicName')])\n",
    "    \n",
    "    cas_number = chem.find('NumberList').find('CASRegistryNumber').text\n",
    "    molecular = chem.find('FormulaList').find('MolecularFormula').text\n",
    "    row = [name_list, cas_number, molecular]\n",
    "    \n",
    "    data.append(row)\n",
    "    del name_list, cas_number, molecular\n",
    "end = datetime.datetime.now()       "
   ]
  },
  {
   "cell_type": "code",
   "execution_count": 90,
   "metadata": {},
   "outputs": [
    {
     "name": "stdout",
     "output_type": "stream",
     "text": [
      "0:00:00.000499\n"
     ]
    }
   ],
   "source": [
    "print(end-start)"
   ]
  },
  {
   "cell_type": "code",
   "execution_count": null,
   "metadata": {},
   "outputs": [],
   "source": [
    "df = pd.DataFrame(data)"
   ]
  },
  {
   "cell_type": "code",
   "execution_count": null,
   "metadata": {},
   "outputs": [],
   "source": []
  },
  {
   "cell_type": "code",
   "execution_count": null,
   "metadata": {},
   "outputs": [],
   "source": []
  },
  {
   "cell_type": "code",
   "execution_count": null,
   "metadata": {},
   "outputs": [],
   "source": []
  },
  {
   "cell_type": "code",
   "execution_count": null,
   "metadata": {},
   "outputs": [],
   "source": []
  },
  {
   "cell_type": "code",
   "execution_count": 73,
   "metadata": {},
   "outputs": [],
   "source": [
    "tree = ET.parse(xml)\n",
    "chemical = tree.findall('Chemical')\n",
    "data = []\n",
    "start = datetime.datetime.now()\n",
    "for chem in chemical:\n",
    "    for ele in chem:\n",
    "       \n",
    "        if(ele.tag==\"NameList\"):\n",
    "            name_list = ' : '.join([ele1.text for ele1 in ele.findall('SystematicName')])\n",
    "            #print(name_list)\n",
    "        elif(ele.tag=='NumberList'):\n",
    "            cas_number = ele.find('CASRegistryNumber').text\n",
    "            #print(cas_number)\n",
    "        elif(ele.tag=='FormulaList'):\n",
    "            molecular = ele.find('MolecularFormula').text\n",
    "            #print(molecular)\n",
    "    row = [name_list, cas_number, molecular]\n",
    "    #print('*****************')\n",
    "    data.append(row)\n",
    "    del name_list, cas_number, molecular\n",
    "    \n",
    "end = datetime.datetime.now()"
   ]
  },
  {
   "cell_type": "code",
   "execution_count": null,
   "metadata": {},
   "outputs": [],
   "source": [
    "print(end-start)"
   ]
  },
  {
   "cell_type": "code",
   "execution_count": 91,
   "metadata": {},
   "outputs": [],
   "source": [
    "df = pd.DataFrame(data)"
   ]
  },
  {
   "cell_type": "code",
   "execution_count": 92,
   "metadata": {},
   "outputs": [
    {
     "data": {
      "text/html": [
       "<div>\n",
       "<style scoped>\n",
       "    .dataframe tbody tr th:only-of-type {\n",
       "        vertical-align: middle;\n",
       "    }\n",
       "\n",
       "    .dataframe tbody tr th {\n",
       "        vertical-align: top;\n",
       "    }\n",
       "\n",
       "    .dataframe thead th {\n",
       "        text-align: right;\n",
       "    }\n",
       "</style>\n",
       "<table border=\"1\" class=\"dataframe\">\n",
       "  <thead>\n",
       "    <tr style=\"text-align: right;\">\n",
       "      <th></th>\n",
       "      <th>0</th>\n",
       "      <th>1</th>\n",
       "      <th>2</th>\n",
       "    </tr>\n",
       "  </thead>\n",
       "  <tbody>\n",
       "    <tr>\n",
       "      <th>0</th>\n",
       "      <td>N,N,N',N'-Tetramethylbenzene-1,3-diamine : 1,3...</td>\n",
       "      <td>22440-93-3</td>\n",
       "      <td>C10-H16-N2</td>\n",
       "    </tr>\n",
       "    <tr>\n",
       "      <th>1</th>\n",
       "      <td>Bis(pentachlorophenyl) disulphide : Disulfide,...</td>\n",
       "      <td>22441-21-0</td>\n",
       "      <td>C12-Cl10-S2</td>\n",
       "    </tr>\n",
       "    <tr>\n",
       "      <th>2</th>\n",
       "      <td>Sodium pentachlorobenzenethiolate : Benzenethi...</td>\n",
       "      <td>22441-28-7</td>\n",
       "      <td>C6-H-Cl5-S.Na</td>\n",
       "    </tr>\n",
       "    <tr>\n",
       "      <th>3</th>\n",
       "      <td>2-Cyclopentadecen-1-one, 3-methyl-</td>\n",
       "      <td>22442-01-9</td>\n",
       "      <td>C16-H28-O</td>\n",
       "    </tr>\n",
       "    <tr>\n",
       "      <th>4</th>\n",
       "      <td>3-Cyclopentadecen-1-one, 3-methyl-</td>\n",
       "      <td>22442-02-0</td>\n",
       "      <td>C16-H28-O</td>\n",
       "    </tr>\n",
       "    <tr>\n",
       "      <th>5</th>\n",
       "      <td>Cyclooctanone, 2-(phenylmethyl)-</td>\n",
       "      <td>22442-07-5</td>\n",
       "      <td>C15-H20-O</td>\n",
       "    </tr>\n",
       "    <tr>\n",
       "      <th>6</th>\n",
       "      <td>Benzenepropanenitrile, 4-methoxy- (9CI) : Hydr...</td>\n",
       "      <td>22442-48-4</td>\n",
       "      <td>C10-H11-N-O</td>\n",
       "    </tr>\n",
       "  </tbody>\n",
       "</table>\n",
       "</div>"
      ],
      "text/plain": [
       "                                                   0           1  \\\n",
       "0  N,N,N',N'-Tetramethylbenzene-1,3-diamine : 1,3...  22440-93-3   \n",
       "1  Bis(pentachlorophenyl) disulphide : Disulfide,...  22441-21-0   \n",
       "2  Sodium pentachlorobenzenethiolate : Benzenethi...  22441-28-7   \n",
       "3                 2-Cyclopentadecen-1-one, 3-methyl-  22442-01-9   \n",
       "4                 3-Cyclopentadecen-1-one, 3-methyl-  22442-02-0   \n",
       "5                   Cyclooctanone, 2-(phenylmethyl)-  22442-07-5   \n",
       "6  Benzenepropanenitrile, 4-methoxy- (9CI) : Hydr...  22442-48-4   \n",
       "\n",
       "               2  \n",
       "0     C10-H16-N2  \n",
       "1    C12-Cl10-S2  \n",
       "2  C6-H-Cl5-S.Na  \n",
       "3      C16-H28-O  \n",
       "4      C16-H28-O  \n",
       "5      C15-H20-O  \n",
       "6    C10-H11-N-O  "
      ]
     },
     "execution_count": 92,
     "metadata": {},
     "output_type": "execute_result"
    }
   ],
   "source": [
    "df"
   ]
  },
  {
   "cell_type": "code",
   "execution_count": null,
   "metadata": {},
   "outputs": [],
   "source": []
  },
  {
   "cell_type": "code",
   "execution_count": null,
   "metadata": {},
   "outputs": [],
   "source": []
  }
 ],
 "metadata": {
  "kernelspec": {
   "display_name": "Python 3",
   "language": "python",
   "name": "python3"
  },
  "language_info": {
   "codemirror_mode": {
    "name": "ipython",
    "version": 3
   },
   "file_extension": ".py",
   "mimetype": "text/x-python",
   "name": "python",
   "nbconvert_exporter": "python",
   "pygments_lexer": "ipython3",
   "version": "3.7.3"
  }
 },
 "nbformat": 4,
 "nbformat_minor": 2
}
