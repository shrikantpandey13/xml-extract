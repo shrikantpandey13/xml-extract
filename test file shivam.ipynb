{
 "cells": [
  {
   "cell_type": "code",
   "execution_count": 1,
   "metadata": {
    "ExecuteTime": {
     "end_time": "2019-12-15T07:08:17.450406Z",
     "start_time": "2019-12-15T07:08:13.409282Z"
    }
   },
   "outputs": [],
   "source": [
    "import pandas as pd\n",
    "import numpy as np"
   ]
  },
  {
   "cell_type": "code",
   "execution_count": 2,
   "metadata": {
    "ExecuteTime": {
     "end_time": "2019-12-15T07:08:17.518177Z",
     "start_time": "2019-12-15T07:08:17.453296Z"
    }
   },
   "outputs": [
    {
     "data": {
      "text/html": [
       "<div>\n",
       "<style scoped>\n",
       "    .dataframe tbody tr th:only-of-type {\n",
       "        vertical-align: middle;\n",
       "    }\n",
       "\n",
       "    .dataframe tbody tr th {\n",
       "        vertical-align: top;\n",
       "    }\n",
       "\n",
       "    .dataframe thead th {\n",
       "        text-align: right;\n",
       "    }\n",
       "</style>\n",
       "<table border=\"1\" class=\"dataframe\">\n",
       "  <thead>\n",
       "    <tr style=\"text-align: right;\">\n",
       "      <th></th>\n",
       "      <th>Compund_Name</th>\n",
       "      <th>cas_nos</th>\n",
       "      <th>mole_formula</th>\n",
       "    </tr>\n",
       "  </thead>\n",
       "  <tbody>\n",
       "    <tr>\n",
       "      <th>0</th>\n",
       "      <td>monobutyl phthalate</td>\n",
       "      <td>34-74-2</td>\n",
       "      <td>012-H14-04</td>\n",
       "    </tr>\n",
       "    <tr>\n",
       "      <th>1</th>\n",
       "      <td>carotenoids</td>\n",
       "      <td>NaN</td>\n",
       "      <td>C39-H45-N2-06</td>\n",
       "    </tr>\n",
       "    <tr>\n",
       "      <th>2</th>\n",
       "      <td>NaN</td>\n",
       "      <td>36-88-4</td>\n",
       "      <td>NaN</td>\n",
       "    </tr>\n",
       "    <tr>\n",
       "      <th>3</th>\n",
       "      <td>monobutyl phthalate</td>\n",
       "      <td>45-78-23</td>\n",
       "      <td>CH3</td>\n",
       "    </tr>\n",
       "  </tbody>\n",
       "</table>\n",
       "</div>"
      ],
      "text/plain": [
       "          Compund_Name   cas_nos   mole_formula\n",
       "0  monobutyl phthalate   34-74-2     012-H14-04\n",
       "1          carotenoids       NaN  C39-H45-N2-06\n",
       "2                  NaN   36-88-4            NaN\n",
       "3  monobutyl phthalate  45-78-23            CH3"
      ]
     },
     "execution_count": 2,
     "metadata": {},
     "output_type": "execute_result"
    }
   ],
   "source": [
    "Compund_Name = ['monobutyl phthalate','carotenoids',np.nan, 'monobutyl phthalate']\n",
    "cas_nos = ['34-74-2',np.nan,'36-88-4', '45-78-23']\n",
    "mole_formula = ['012-H14-04','C39-H45-N2-06',np.nan, 'CH3']\n",
    "\n",
    "data = {'Compund_Name':Compund_Name, 'cas_nos':cas_nos, 'mole_formula':mole_formula}\n",
    "\n",
    "df_samplel1 = pd.DataFrame(data=data)\n",
    "df_samplel1\n"
   ]
  },
  {
   "cell_type": "code",
   "execution_count": 3,
   "metadata": {
    "ExecuteTime": {
     "end_time": "2019-12-15T07:08:41.984665Z",
     "start_time": "2019-12-15T07:08:41.968041Z"
    }
   },
   "outputs": [
    {
     "data": {
      "text/html": [
       "<div>\n",
       "<style scoped>\n",
       "    .dataframe tbody tr th:only-of-type {\n",
       "        vertical-align: middle;\n",
       "    }\n",
       "\n",
       "    .dataframe tbody tr th {\n",
       "        vertical-align: top;\n",
       "    }\n",
       "\n",
       "    .dataframe thead th {\n",
       "        text-align: right;\n",
       "    }\n",
       "</style>\n",
       "<table border=\"1\" class=\"dataframe\">\n",
       "  <thead>\n",
       "    <tr style=\"text-align: right;\">\n",
       "      <th></th>\n",
       "      <th>Compund_Name</th>\n",
       "      <th>cas_nos</th>\n",
       "      <th>mole_formula</th>\n",
       "    </tr>\n",
       "  </thead>\n",
       "  <tbody>\n",
       "    <tr>\n",
       "      <th>0</th>\n",
       "      <td>monobutyl phthalate</td>\n",
       "      <td>NaN</td>\n",
       "      <td>012-H14-04</td>\n",
       "    </tr>\n",
       "    <tr>\n",
       "      <th>1</th>\n",
       "      <td>carotenoids</td>\n",
       "      <td>NaN</td>\n",
       "      <td>NaN</td>\n",
       "    </tr>\n",
       "    <tr>\n",
       "      <th>2</th>\n",
       "      <td>NaN</td>\n",
       "      <td>NaN</td>\n",
       "      <td>NaN</td>\n",
       "    </tr>\n",
       "  </tbody>\n",
       "</table>\n",
       "</div>"
      ],
      "text/plain": [
       "          Compund_Name  cas_nos mole_formula\n",
       "0  monobutyl phthalate      NaN   012-H14-04\n",
       "1          carotenoids      NaN          NaN\n",
       "2                  NaN      NaN          NaN"
      ]
     },
     "execution_count": 3,
     "metadata": {},
     "output_type": "execute_result"
    }
   ],
   "source": [
    "Compund_Name = ['monobutyl phthalate','carotenoids',np.nan]\n",
    "cas_nos = [np.nan,np.nan,np.nan]\n",
    "mole_formula = ['012-H14-04',np.nan,np.nan]\n",
    "\n",
    "data = {'Compund_Name':Compund_Name, 'cas_nos':cas_nos, 'mole_formula':mole_formula}\n",
    "\n",
    "df_samplel2 = pd.DataFrame(data=data)\n",
    "df_samplel2"
   ]
  },
  {
   "cell_type": "code",
   "execution_count": 27,
   "metadata": {},
   "outputs": [],
   "source": [
    "df_samplel2_no_null = df_samplel2[df_samplel2['Compund_Name'].notnull()]"
   ]
  },
  {
   "cell_type": "code",
   "execution_count": 28,
   "metadata": {},
   "outputs": [],
   "source": [
    "new_df = df_samplel2_no_null.merge(df_samplel1, on='Compund_Name', how='left')"
   ]
  },
  {
   "cell_type": "code",
   "execution_count": 30,
   "metadata": {},
   "outputs": [],
   "source": [
    "new_df['cas_nos_x'] = np.where(new_df['cas_nos_x'].isnull(), new_df['cas_nos_y'], new_df['cas_nos_x'])\n",
    "new_df['mole_formula_x'] = np.where(new_df['mole_formula_x'].isnull(), new_df['mole_formula_y'], new_df['mole_formula_x'])"
   ]
  },
  {
   "cell_type": "code",
   "execution_count": 31,
   "metadata": {},
   "outputs": [],
   "source": [
    "new_df.drop(['cas_nos_y', 'mole_formula_y'], axis=1, inplace=True)\n",
    "new_df = new_df.rename(columns={'cas_nos_x':'cas_nos', 'mole_formula_x':'mole_formula'})"
   ]
  },
  {
   "cell_type": "code",
   "execution_count": 32,
   "metadata": {},
   "outputs": [
    {
     "data": {
      "text/html": [
       "<div>\n",
       "<style scoped>\n",
       "    .dataframe tbody tr th:only-of-type {\n",
       "        vertical-align: middle;\n",
       "    }\n",
       "\n",
       "    .dataframe tbody tr th {\n",
       "        vertical-align: top;\n",
       "    }\n",
       "\n",
       "    .dataframe thead th {\n",
       "        text-align: right;\n",
       "    }\n",
       "</style>\n",
       "<table border=\"1\" class=\"dataframe\">\n",
       "  <thead>\n",
       "    <tr style=\"text-align: right;\">\n",
       "      <th></th>\n",
       "      <th>Compund_Name</th>\n",
       "      <th>cas_nos</th>\n",
       "      <th>mole_formula</th>\n",
       "    </tr>\n",
       "  </thead>\n",
       "  <tbody>\n",
       "    <tr>\n",
       "      <th>0</th>\n",
       "      <td>monobutyl phthalate</td>\n",
       "      <td>34-74-2</td>\n",
       "      <td>012-H14-04</td>\n",
       "    </tr>\n",
       "    <tr>\n",
       "      <th>1</th>\n",
       "      <td>monobutyl phthalate</td>\n",
       "      <td>45-78-23</td>\n",
       "      <td>012-H14-04</td>\n",
       "    </tr>\n",
       "    <tr>\n",
       "      <th>2</th>\n",
       "      <td>carotenoids</td>\n",
       "      <td>NaN</td>\n",
       "      <td>C39-H45-N2-06</td>\n",
       "    </tr>\n",
       "  </tbody>\n",
       "</table>\n",
       "</div>"
      ],
      "text/plain": [
       "          Compund_Name   cas_nos   mole_formula\n",
       "0  monobutyl phthalate   34-74-2     012-H14-04\n",
       "1  monobutyl phthalate  45-78-23     012-H14-04\n",
       "2          carotenoids       NaN  C39-H45-N2-06"
      ]
     },
     "execution_count": 32,
     "metadata": {},
     "output_type": "execute_result"
    }
   ],
   "source": [
    "new_df"
   ]
  },
  {
   "cell_type": "code",
   "execution_count": 12,
   "metadata": {
    "ExecuteTime": {
     "end_time": "2019-12-15T07:15:33.662974Z",
     "start_time": "2019-12-15T07:15:33.658980Z"
    }
   },
   "outputs": [],
   "source": [
    "df_samplel1_no_null = df_samplel1[df_samplel1['Compund_Name'].notnull()]"
   ]
  },
  {
   "cell_type": "code",
   "execution_count": 13,
   "metadata": {
    "ExecuteTime": {
     "end_time": "2019-12-15T07:15:34.025584Z",
     "start_time": "2019-12-15T07:15:34.018632Z"
    }
   },
   "outputs": [],
   "source": [
    "new_df1 = df_samplel1_no_null.merge(df_samplel2, on='Compund_Name', how='left')"
   ]
  },
  {
   "cell_type": "code",
   "execution_count": 14,
   "metadata": {
    "ExecuteTime": {
     "end_time": "2019-12-15T07:15:34.769526Z",
     "start_time": "2019-12-15T07:15:34.758555Z"
    }
   },
   "outputs": [
    {
     "data": {
      "text/html": [
       "<div>\n",
       "<style scoped>\n",
       "    .dataframe tbody tr th:only-of-type {\n",
       "        vertical-align: middle;\n",
       "    }\n",
       "\n",
       "    .dataframe tbody tr th {\n",
       "        vertical-align: top;\n",
       "    }\n",
       "\n",
       "    .dataframe thead th {\n",
       "        text-align: right;\n",
       "    }\n",
       "</style>\n",
       "<table border=\"1\" class=\"dataframe\">\n",
       "  <thead>\n",
       "    <tr style=\"text-align: right;\">\n",
       "      <th></th>\n",
       "      <th>Compund_Name</th>\n",
       "      <th>cas_nos_x</th>\n",
       "      <th>mole_formula_x</th>\n",
       "      <th>cas_nos_y</th>\n",
       "      <th>mole_formula_y</th>\n",
       "    </tr>\n",
       "  </thead>\n",
       "  <tbody>\n",
       "    <tr>\n",
       "      <th>0</th>\n",
       "      <td>monobutyl phthalate</td>\n",
       "      <td>34-74-2</td>\n",
       "      <td>012-H14-04</td>\n",
       "      <td>NaN</td>\n",
       "      <td>012-H14-04</td>\n",
       "    </tr>\n",
       "    <tr>\n",
       "      <th>1</th>\n",
       "      <td>carotenoids</td>\n",
       "      <td>NaN</td>\n",
       "      <td>C39-H45-N2-06</td>\n",
       "      <td>NaN</td>\n",
       "      <td>NaN</td>\n",
       "    </tr>\n",
       "    <tr>\n",
       "      <th>2</th>\n",
       "      <td>monobutyl phthalate</td>\n",
       "      <td>45-78-23</td>\n",
       "      <td>CH3</td>\n",
       "      <td>NaN</td>\n",
       "      <td>012-H14-04</td>\n",
       "    </tr>\n",
       "  </tbody>\n",
       "</table>\n",
       "</div>"
      ],
      "text/plain": [
       "          Compund_Name cas_nos_x mole_formula_x  cas_nos_y mole_formula_y\n",
       "0  monobutyl phthalate   34-74-2     012-H14-04        NaN     012-H14-04\n",
       "1          carotenoids       NaN  C39-H45-N2-06        NaN            NaN\n",
       "2  monobutyl phthalate  45-78-23            CH3        NaN     012-H14-04"
      ]
     },
     "execution_count": 14,
     "metadata": {},
     "output_type": "execute_result"
    }
   ],
   "source": [
    "new_df1"
   ]
  },
  {
   "cell_type": "code",
   "execution_count": 15,
   "metadata": {
    "ExecuteTime": {
     "end_time": "2019-12-15T07:15:37.499869Z",
     "start_time": "2019-12-15T07:15:37.494854Z"
    }
   },
   "outputs": [],
   "source": [
    "new_df1['cas_nos_x'] = np.where(new_df1['cas_nos_x'].isnull(), new_df1['cas_nos_y'], new_df1['cas_nos_x'])\n",
    "new_df1['mole_formula_x'] = np.where(new_df1['mole_formula_x'].isnull(), new_df1['mole_formula_y'], new_df1['mole_formula_x'])"
   ]
  },
  {
   "cell_type": "code",
   "execution_count": 16,
   "metadata": {
    "ExecuteTime": {
     "end_time": "2019-12-15T07:15:41.971046Z",
     "start_time": "2019-12-15T07:15:41.965707Z"
    }
   },
   "outputs": [],
   "source": [
    "new_df1.drop(['cas_nos_y', 'mole_formula_y'], axis=1, inplace=True)\n",
    "new_df1 = new_df1.rename(columns={'cas_nos_x':'cas_nos', 'mole_formula_x':'mole_formula'})"
   ]
  },
  {
   "cell_type": "code",
   "execution_count": 17,
   "metadata": {
    "ExecuteTime": {
     "end_time": "2019-12-15T07:15:47.480825Z",
     "start_time": "2019-12-15T07:15:47.472479Z"
    }
   },
   "outputs": [
    {
     "data": {
      "text/html": [
       "<div>\n",
       "<style scoped>\n",
       "    .dataframe tbody tr th:only-of-type {\n",
       "        vertical-align: middle;\n",
       "    }\n",
       "\n",
       "    .dataframe tbody tr th {\n",
       "        vertical-align: top;\n",
       "    }\n",
       "\n",
       "    .dataframe thead th {\n",
       "        text-align: right;\n",
       "    }\n",
       "</style>\n",
       "<table border=\"1\" class=\"dataframe\">\n",
       "  <thead>\n",
       "    <tr style=\"text-align: right;\">\n",
       "      <th></th>\n",
       "      <th>Compund_Name</th>\n",
       "      <th>cas_nos</th>\n",
       "      <th>mole_formula</th>\n",
       "    </tr>\n",
       "  </thead>\n",
       "  <tbody>\n",
       "    <tr>\n",
       "      <th>0</th>\n",
       "      <td>monobutyl phthalate</td>\n",
       "      <td>34-74-2</td>\n",
       "      <td>012-H14-04</td>\n",
       "    </tr>\n",
       "    <tr>\n",
       "      <th>1</th>\n",
       "      <td>carotenoids</td>\n",
       "      <td>NaN</td>\n",
       "      <td>C39-H45-N2-06</td>\n",
       "    </tr>\n",
       "    <tr>\n",
       "      <th>2</th>\n",
       "      <td>monobutyl phthalate</td>\n",
       "      <td>45-78-23</td>\n",
       "      <td>CH3</td>\n",
       "    </tr>\n",
       "  </tbody>\n",
       "</table>\n",
       "</div>"
      ],
      "text/plain": [
       "          Compund_Name   cas_nos   mole_formula\n",
       "0  monobutyl phthalate   34-74-2     012-H14-04\n",
       "1          carotenoids       NaN  C39-H45-N2-06\n",
       "2  monobutyl phthalate  45-78-23            CH3"
      ]
     },
     "execution_count": 17,
     "metadata": {},
     "output_type": "execute_result"
    }
   ],
   "source": [
    "new_df1"
   ]
  },
  {
   "cell_type": "code",
   "execution_count": null,
   "metadata": {},
   "outputs": [],
   "source": []
  }
 ],
 "metadata": {
  "kernelspec": {
   "display_name": "Python 3",
   "language": "python",
   "name": "python3"
  },
  "language_info": {
   "codemirror_mode": {
    "name": "ipython",
    "version": 3
   },
   "file_extension": ".py",
   "mimetype": "text/x-python",
   "name": "python",
   "nbconvert_exporter": "python",
   "pygments_lexer": "ipython3",
   "version": "3.6.6"
  }
 },
 "nbformat": 4,
 "nbformat_minor": 2
}
