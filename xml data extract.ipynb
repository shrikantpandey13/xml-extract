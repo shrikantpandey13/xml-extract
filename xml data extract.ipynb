{
 "cells": [
  {
   "cell_type": "code",
   "execution_count": 2,
   "metadata": {
    "ExecuteTime": {
     "end_time": "2019-12-15T14:42:42.378188Z",
     "start_time": "2019-12-15T14:42:38.609856Z"
    }
   },
   "outputs": [],
   "source": [
    "import pandas as pd\n",
    "import xml.etree.ElementTree as ET\n"
   ]
  },
  {
   "cell_type": "code",
   "execution_count": 3,
   "metadata": {
    "ExecuteTime": {
     "end_time": "2019-12-15T14:51:48.294000Z",
     "start_time": "2019-12-15T14:51:48.281028Z"
    }
   },
   "outputs": [],
   "source": [
    "file_path = 'C:/Users/Shrikant/Desktop/xml data extract/data.xml'\n",
    "filename = file_path\n",
    "\n",
    "def xml_data(filename):\n",
    "    try:\n",
    "        data = []\n",
    "        tree = ET.parse(filename)\n",
    "        root = tree.getroot()\n",
    "        for elements in root.findall('Results_from_Database_Query_ODBC'):\n",
    "            tag = dict()\n",
    "            for element in elements:\n",
    "                tag[element.tag] = element.text\n",
    "            data.append(tag)\n",
    "    except Exception as err:\n",
    "        print(err)\n",
    "    return data\n",
    "        \n",
    "data = xml_data(filename)"
   ]
  },
  {
   "cell_type": "code",
   "execution_count": 4,
   "metadata": {
    "ExecuteTime": {
     "end_time": "2019-12-15T14:53:43.247359Z",
     "start_time": "2019-12-15T14:53:43.228180Z"
    }
   },
   "outputs": [],
   "source": [
    "def to_df(data):\n",
    "    try:\n",
    "        df = pd.DataFrame(data)\n",
    "        return df\n",
    "    except Exception as err:\n",
    "        print(err)\n",
    "        \n",
    "df = to_df(data)"
   ]
  },
  {
   "cell_type": "code",
   "execution_count": 5,
   "metadata": {
    "ExecuteTime": {
     "end_time": "2019-12-15T14:53:49.147259Z",
     "start_time": "2019-12-15T14:53:49.029072Z"
    }
   },
   "outputs": [
    {
     "data": {
      "text/html": [
       "<div>\n",
       "<style scoped>\n",
       "    .dataframe tbody tr th:only-of-type {\n",
       "        vertical-align: middle;\n",
       "    }\n",
       "\n",
       "    .dataframe tbody tr th {\n",
       "        vertical-align: top;\n",
       "    }\n",
       "\n",
       "    .dataframe thead th {\n",
       "        text-align: right;\n",
       "    }\n",
       "</style>\n",
       "<table border=\"1\" class=\"dataframe\">\n",
       "  <thead>\n",
       "    <tr style=\"text-align: right;\">\n",
       "      <th></th>\n",
       "      <th>ADDRESS_1</th>\n",
       "      <th>ADDRESS_2</th>\n",
       "      <th>ADDRESS_3</th>\n",
       "      <th>AGENT_NUM</th>\n",
       "      <th>APPEAL</th>\n",
       "      <th>ASSOCIATIONS</th>\n",
       "      <th>BOARD_DECISION</th>\n",
       "      <th>BUS_ADDRESS</th>\n",
       "      <th>CATEGORY</th>\n",
       "      <th>CITY</th>\n",
       "      <th>...</th>\n",
       "      <th>REG_TYPE_SIMPLE</th>\n",
       "      <th>SANCTION</th>\n",
       "      <th>STATE_DISPLAY</th>\n",
       "      <th>STATE_PROVINCE</th>\n",
       "      <th>STATUS</th>\n",
       "      <th>STAY</th>\n",
       "      <th>SUSPENSION</th>\n",
       "      <th>TERMINATED_REG</th>\n",
       "      <th>TERMINATION</th>\n",
       "      <th>ZIP</th>\n",
       "    </tr>\n",
       "  </thead>\n",
       "  <tbody>\n",
       "    <tr>\n",
       "      <th>0</th>\n",
       "      <td>5 Marion Street</td>\n",
       "      <td>None</td>\n",
       "      <td>None</td>\n",
       "      <td>24666382</td>\n",
       "      <td>0</td>\n",
       "      <td>None on record</td>\n",
       "      <td>None</td>\n",
       "      <td>5 Marion Street&lt;br /&gt;Midland, WA  6056</td>\n",
       "      <td>TAB</td>\n",
       "      <td>Midland</td>\n",
       "      <td>...</td>\n",
       "      <td>Tax</td>\n",
       "      <td>None on record</td>\n",
       "      <td>WA</td>\n",
       "      <td>WA</td>\n",
       "      <td>Registered</td>\n",
       "      <td>0</td>\n",
       "      <td>None on record</td>\n",
       "      <td>0</td>\n",
       "      <td>None on record</td>\n",
       "      <td>6056</td>\n",
       "    </tr>\n",
       "    <tr>\n",
       "      <th>1</th>\n",
       "      <td>55 Kinlock Ave</td>\n",
       "      <td>None</td>\n",
       "      <td>None</td>\n",
       "      <td>97218004</td>\n",
       "      <td>0</td>\n",
       "      <td>Australian Bookkeepers Association *</td>\n",
       "      <td>None</td>\n",
       "      <td>55 Kinlock Ave&lt;br /&gt;Murrumbeena, VIC  3163</td>\n",
       "      <td>BASB</td>\n",
       "      <td>Murrumbeena</td>\n",
       "      <td>...</td>\n",
       "      <td>BAS</td>\n",
       "      <td>None on record</td>\n",
       "      <td>VIC</td>\n",
       "      <td>VIC</td>\n",
       "      <td>Registered</td>\n",
       "      <td>0</td>\n",
       "      <td>None on record</td>\n",
       "      <td>0</td>\n",
       "      <td>None on record</td>\n",
       "      <td>3163</td>\n",
       "    </tr>\n",
       "  </tbody>\n",
       "</table>\n",
       "<p>2 rows × 37 columns</p>\n",
       "</div>"
      ],
      "text/plain": [
       "         ADDRESS_1 ADDRESS_2 ADDRESS_3 AGENT_NUM APPEAL  \\\n",
       "0  5 Marion Street      None      None  24666382      0   \n",
       "1   55 Kinlock Ave      None      None  97218004      0   \n",
       "\n",
       "                           ASSOCIATIONS BOARD_DECISION  \\\n",
       "0                        None on record           None   \n",
       "1  Australian Bookkeepers Association *           None   \n",
       "\n",
       "                                  BUS_ADDRESS CATEGORY         CITY  ...   \\\n",
       "0      5 Marion Street<br />Midland, WA  6056      TAB      Midland  ...    \n",
       "1  55 Kinlock Ave<br />Murrumbeena, VIC  3163     BASB  Murrumbeena  ...    \n",
       "\n",
       "  REG_TYPE_SIMPLE        SANCTION STATE_DISPLAY STATE_PROVINCE      STATUS  \\\n",
       "0             Tax  None on record            WA             WA  Registered   \n",
       "1             BAS  None on record           VIC            VIC  Registered   \n",
       "\n",
       "  STAY      SUSPENSION TERMINATED_REG     TERMINATION   ZIP  \n",
       "0    0  None on record              0  None on record  6056  \n",
       "1    0  None on record              0  None on record  3163  \n",
       "\n",
       "[2 rows x 37 columns]"
      ]
     },
     "execution_count": 5,
     "metadata": {},
     "output_type": "execute_result"
    }
   ],
   "source": [
    "df.head()"
   ]
  },
  {
   "cell_type": "code",
   "execution_count": null,
   "metadata": {
    "ExecuteTime": {
     "end_time": "2019-12-15T14:56:53.101858Z",
     "start_time": "2019-12-15T14:56:53.062010Z"
    }
   },
   "outputs": [],
   "source": []
  },
  {
   "cell_type": "code",
   "execution_count": null,
   "metadata": {},
   "outputs": [],
   "source": []
  }
 ],
 "metadata": {
  "kernelspec": {
   "display_name": "Python 3",
   "language": "python",
   "name": "python3"
  },
  "language_info": {
   "codemirror_mode": {
    "name": "ipython",
    "version": 3
   },
   "file_extension": ".py",
   "mimetype": "text/x-python",
   "name": "python",
   "nbconvert_exporter": "python",
   "pygments_lexer": "ipython3",
   "version": "3.6.6"
  }
 },
 "nbformat": 4,
 "nbformat_minor": 2
}
